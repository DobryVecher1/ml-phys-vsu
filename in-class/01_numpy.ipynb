{
 "cells": [
  {
   "cell_type": "markdown",
   "metadata": {},
   "source": [
    "## Ноутбук с примерами работы встроенных функций Python и NumPy"
   ]
  },
  {
   "cell_type": "markdown",
   "metadata": {},
   "source": [
    "### Список (list)"
   ]
  },
  {
   "cell_type": "code",
   "execution_count": 6,
   "metadata": {},
   "outputs": [
    {
     "name": "stdout",
     "output_type": "stream",
     "text": [
      "[1, 2, 3, 6, 3, 1]\n"
     ]
    }
   ],
   "source": [
    "x = [1, 2, 3, 6, 3, 1]\n",
    "print(x)"
   ]
  },
  {
   "cell_type": "code",
   "execution_count": 8,
   "metadata": {},
   "outputs": [
    {
     "name": "stdout",
     "output_type": "stream",
     "text": [
      "[3, 6.8132, 'abc']\n"
     ]
    },
    {
     "data": {
      "text/plain": [
       "6.8132"
      ]
     },
     "execution_count": 8,
     "metadata": {},
     "output_type": "execute_result"
    }
   ],
   "source": [
    "# Список может содержать элеметы разных типов \n",
    "x = [3, 6.8132, 'abc']\n",
    "print(x)\n",
    "# По индексу можем достать нужный элемент\n",
    "x[1]"
   ]
  },
  {
   "cell_type": "code",
   "execution_count": 14,
   "metadata": {},
   "outputs": [
    {
     "name": "stdout",
     "output_type": "stream",
     "text": [
      "[[1, 2, 3], [4, 8], ['Hello', 'World', '!']]\n",
      "World\n"
     ]
    }
   ],
   "source": [
    "# Список в списке\n",
    "x = [[1,2,3], [4,8], ['Hello', 'World', '!']]\n",
    "print(x)\n",
    "# Выведем слово 'World'\n",
    "print(x[2][1])"
   ]
  },
  {
   "cell_type": "markdown",
   "metadata": {},
   "source": [
    "Очень удобно использовать **срезы** (slices). С их помощью можно получить доступ к подсписку \\\n",
    "Общий синтаксис: your_list[start : stop : step]"
   ]
  },
  {
   "cell_type": "code",
   "execution_count": 34,
   "metadata": {},
   "outputs": [
    {
     "name": "stdout",
     "output_type": "stream",
     "text": [
      "a --> [0, 1, 2, 3, 4, 5, 6, 7, 8, 9]\n",
      "a[2:5] --> [2, 3, 4]\n",
      "a[5:9:2] --> [5, 7]\n",
      "a[6:3:-1] --> [6, 5, 4]\n",
      "a[:-1] -->  [0, 1, 2, 3, 4, 5, 6, 7, 8]\n",
      "a[::-1] --> [9, 8, 7, 6, 5, 4, 3, 2, 1, 0]\n"
     ]
    }
   ],
   "source": [
    "a = list(range(10))\n",
    "print('a -->', a)\n",
    "# По умолчанию шаг равен 1\n",
    "print('a[2:5] -->', a[2:5])\n",
    "# Можно выбрать другой\n",
    "print('a[5:9:2] -->', a[5:9:2])\n",
    "# В обратном направлении\n",
    "print('a[6:3:-1] -->', a[6:3:-1])\n",
    "# с нулевого элемента до предпоследнего\n",
    "print('a[:-1] --> ', a[:-1])\n",
    "# перевернуть список\n",
    "print('a[::-1] -->', a[::-1])"
   ]
  },
  {
   "cell_type": "code",
   "execution_count": 35,
   "metadata": {},
   "outputs": [
    {
     "name": "stdout",
     "output_type": "stream",
     "text": [
      "[1, 2, 4, 5]\n"
     ]
    }
   ],
   "source": [
    "# Добавление элемента в конец списка\n",
    "x = [1,2,4]\n",
    "x.append(5)\n",
    "print(x)"
   ]
  },
  {
   "cell_type": "markdown",
   "metadata": {},
   "source": [
    "List comprehension"
   ]
  },
  {
   "cell_type": "code",
   "execution_count": 37,
   "metadata": {},
   "outputs": [
    {
     "name": "stdout",
     "output_type": "stream",
     "text": [
      "[0, 1, 2, 3, 4, 5, 6, 7]\n"
     ]
    }
   ],
   "source": [
    "# Можем генерировать списки, добавлять элементы используя более компактную запись\n",
    "x = [ii for ii in range(8)]\n",
    "print(x)"
   ]
  },
  {
   "cell_type": "code",
   "execution_count": 41,
   "metadata": {},
   "outputs": [
    {
     "name": "stdout",
     "output_type": "stream",
     "text": [
      "['even', 1, 'even', 3, 'even', 5, 'even', 7, 'even', 9, 'even', 11, 'even', 13, 'even']\n"
     ]
    }
   ],
   "source": [
    "# Можно использовать условные операторы. Например, вместо четных чисел запишем строку 'even'\n",
    "x = ['even' if ii % 2 == 0 else ii for ii in range(15)]\n",
    "print(x)"
   ]
  },
  {
   "cell_type": "markdown",
   "metadata": {},
   "source": [
    "### Кортеж (Tuple)\n",
    "Кортеж - Неизменяемый, упорядоченный набор значений"
   ]
  },
  {
   "cell_type": "code",
   "execution_count": 48,
   "metadata": {},
   "outputs": [
    {
     "name": "stdout",
     "output_type": "stream",
     "text": [
      "<class 'tuple'>\n"
     ]
    },
    {
     "ename": "TypeError",
     "evalue": "'tuple' object does not support item assignment",
     "output_type": "error",
     "traceback": [
      "\u001b[1;31m---------------------------------------------------------------------------\u001b[0m",
      "\u001b[1;31mTypeError\u001b[0m                                 Traceback (most recent call last)",
      "\u001b[1;32m~\\AppData\\Local\\Temp/ipykernel_10440/2034502822.py\u001b[0m in \u001b[0;36m<module>\u001b[1;34m\u001b[0m\n\u001b[0;32m      2\u001b[0m \u001b[0mprint\u001b[0m\u001b[1;33m(\u001b[0m\u001b[0mtype\u001b[0m\u001b[1;33m(\u001b[0m\u001b[0mb\u001b[0m\u001b[1;33m)\u001b[0m\u001b[1;33m)\u001b[0m\u001b[1;33m\u001b[0m\u001b[1;33m\u001b[0m\u001b[0m\n\u001b[0;32m      3\u001b[0m \u001b[1;31m# Изменить кортеж нельзя\u001b[0m\u001b[1;33m\u001b[0m\u001b[1;33m\u001b[0m\u001b[0m\n\u001b[1;32m----> 4\u001b[1;33m \u001b[0mb\u001b[0m\u001b[1;33m[\u001b[0m\u001b[1;36m1\u001b[0m\u001b[1;33m]\u001b[0m \u001b[1;33m=\u001b[0m \u001b[1;36m3\u001b[0m\u001b[1;33m\u001b[0m\u001b[1;33m\u001b[0m\u001b[0m\n\u001b[0m",
      "\u001b[1;31mTypeError\u001b[0m: 'tuple' object does not support item assignment"
     ]
    }
   ],
   "source": [
    "b = (1, 'aaa', 9.2)\n",
    "print(type(b))\n",
    "# Изменить кортеж нельзя\n",
    "b[1] = 3"
   ]
  },
  {
   "cell_type": "markdown",
   "metadata": {},
   "source": [
    "### Словарь (dictionary)\n",
    "Словарь - структура данных, позволяющая получить доступ к значению (value) по ключу (key)"
   ]
  },
  {
   "cell_type": "code",
   "execution_count": 64,
   "metadata": {},
   "outputs": [
    {
     "name": "stdout",
     "output_type": "stream",
     "text": [
      "Sun\n",
      "dict_keys(['star', 'planet', 'light_speed'])\n",
      "dict_values(['Sun', 'Mercury', 300000000.0])\n",
      "dict_items([('star', 'Sun'), ('planet', 'Mercury'), ('light_speed', 300000000.0)])\n"
     ]
    }
   ],
   "source": [
    "# Словарь (dictionary)\n",
    "my_dict = {'star': 'Sun', 'planet': 'Mercury', 'light_speed': 3e8}\n",
    "print(my_dict['star'])\n",
    "# Ключи\n",
    "print(my_dict.keys())\n",
    "# Значения \n",
    "print(my_dict.values())\n",
    "# Ключ - значение\n",
    "print(my_dict.items())"
   ]
  },
  {
   "cell_type": "code",
   "execution_count": 62,
   "metadata": {},
   "outputs": [
    {
     "name": "stdout",
     "output_type": "stream",
     "text": [
      "('star', 'Sun')\n",
      "('planet', 'Mercury')\n",
      "('light_speed', 300000000.0)\n"
     ]
    }
   ],
   "source": [
    "for elem in my_dict.items():\n",
    "    print(elem)"
   ]
  },
  {
   "cell_type": "code",
   "execution_count": 68,
   "metadata": {},
   "outputs": [
    {
     "name": "stdout",
     "output_type": "stream",
     "text": [
      "{'star': 'Sun', 'planet': 'Mercury', 'light_speed': 300000000.0, 'num_of_planets': 8}\n",
      "{'star': 'Sun', 'planet': 'Earth', 'light_speed': 300000000.0, 'num_of_planets': 8}\n"
     ]
    }
   ],
   "source": [
    "# update Позволяет обновить данные словаря или дополнить их\n",
    "my_dict = {'star': 'Sun', 'planet': 'Mercury', 'light_speed': 3e8}\n",
    "my_dict.update({'num_of_planets': 8})  # Добавляем новую информацию\n",
    "print(my_dict)\n",
    "my_dict.update({'planet': 'Earth'})  # Обновляем\n",
    "print(my_dict)"
   ]
  },
  {
   "cell_type": "markdown",
   "metadata": {},
   "source": [
    "### Множество (Set)\n",
    "Множество - набор уникальных и неупорядоченных значений"
   ]
  },
  {
   "cell_type": "code",
   "execution_count": 69,
   "metadata": {},
   "outputs": [
    {
     "name": "stdout",
     "output_type": "stream",
     "text": [
      "[1, 2, 4, 9, 4, 1]\n",
      "{1, 2, 4, 9}\n"
     ]
    }
   ],
   "source": [
    "# Если имеются повторяющиеся элементы, после приведение к типу set останутся только уникальные\n",
    "a = [1,2,4,9,4,1]\n",
    "print(a)\n",
    "print(set(a))"
   ]
  },
  {
   "cell_type": "code",
   "execution_count": 74,
   "metadata": {},
   "outputs": [
    {
     "name": "stdout",
     "output_type": "stream",
     "text": [
      "{1, 2, 3, 4, 5}\n",
      "{1, 2, 3, 4, 5}\n"
     ]
    }
   ],
   "source": [
    "# Удобно производить операции объединения множеств, пересечения и т.д.\n",
    "first_set = {1, 2, 3}\n",
    "second_set = {3, 4, 5}\n",
    "print( first_set.union(second_set) )\n",
    "# Можно использовать '|'\n",
    "print( first_set | second_set )"
   ]
  },
  {
   "cell_type": "code",
   "execution_count": 77,
   "metadata": {},
   "outputs": [
    {
     "name": "stdout",
     "output_type": "stream",
     "text": [
      "{3}\n"
     ]
    },
    {
     "data": {
      "text/plain": [
       "{3}"
      ]
     },
     "execution_count": 77,
     "metadata": {},
     "output_type": "execute_result"
    }
   ],
   "source": [
    "# Пересечение множеств\n",
    "print( second_set.intersection(first_set) )\n",
    "# Используя оператор '&'\n",
    "first_set & second_set"
   ]
  },
  {
   "cell_type": "code",
   "execution_count": 81,
   "metadata": {},
   "outputs": [
    {
     "name": "stdout",
     "output_type": "stream",
     "text": [
      "{1, 2, 3}\n",
      "{1, 2, 3}\n",
      "{8, 9, 7}\n"
     ]
    }
   ],
   "source": [
    "# Разность множеств. Результатом является множество, состоящее из элементов первого множества,\n",
    "# которые не представлены во втором. Поэтому порядок имеет значение\n",
    "first_set = {1, 2, 3, 4, 5, 6}\n",
    "second_set = {4, 5, 6, 7, 8, 9}\n",
    "print( first_set.difference(second_set) )\n",
    "# Используя оператор '-' \n",
    "print( first_set - second_set )\n",
    "print( second_set - first_set )\n"
   ]
  },
  {
   "cell_type": "markdown",
   "metadata": {},
   "source": [
    "### Циклы"
   ]
  },
  {
   "cell_type": "code",
   "execution_count": 128,
   "metadata": {},
   "outputs": [
    {
     "name": "stdout",
     "output_type": "stream",
     "text": [
      "0 a\n",
      "1 b\n",
      "2 c\n",
      "3 d\n",
      "4 e\n"
     ]
    }
   ],
   "source": [
    "my_list = ['a', 'b', 'c', 'd', 'e']\n",
    "for ii, elem in enumerate(my_list):\n",
    "    print(ii, elem)"
   ]
  },
  {
   "cell_type": "code",
   "execution_count": 129,
   "metadata": {},
   "outputs": [
    {
     "name": "stdout",
     "output_type": "stream",
     "text": [
      "10 a\n",
      "20 b\n",
      "30 c\n",
      "40 d\n"
     ]
    }
   ],
   "source": [
    "a = [10, 20, 30, 40]\n",
    "b = ['a', 'b', 'c', 'd', 'e']\n",
    "for i, j in zip(a, b):\n",
    "    print(i, j)"
   ]
  },
  {
   "cell_type": "markdown",
   "metadata": {},
   "source": [
    "### NumPy\n",
    "Основная библиотека для научных и инженерных вычислений"
   ]
  },
  {
   "cell_type": "code",
   "execution_count": 82,
   "metadata": {},
   "outputs": [],
   "source": [
    "import numpy as np"
   ]
  },
  {
   "cell_type": "code",
   "execution_count": 83,
   "metadata": {},
   "outputs": [
    {
     "name": "stdout",
     "output_type": "stream",
     "text": [
      "[1 4 2 5 3]\n"
     ]
    },
    {
     "data": {
      "text/plain": [
       "numpy.ndarray"
      ]
     },
     "execution_count": 83,
     "metadata": {},
     "output_type": "execute_result"
    }
   ],
   "source": [
    "a = np.array([1, 4, 2, 5, 3])\n",
    "print(a)\n",
    "type(a)"
   ]
  },
  {
   "cell_type": "code",
   "execution_count": 84,
   "metadata": {},
   "outputs": [
    {
     "name": "stdout",
     "output_type": "stream",
     "text": [
      "[1, 2, 3, '4', 6]\n",
      "['1' '2' '3' '4' '6']\n"
     ]
    }
   ],
   "source": [
    "print([1, 2, 3, '4', 6])\n",
    "print(np.array([1, 2, 3, '4', 6]))"
   ]
  },
  {
   "cell_type": "code",
   "execution_count": 85,
   "metadata": {},
   "outputs": [
    {
     "name": "stdout",
     "output_type": "stream",
     "text": [
      "[[1 2 3]\n",
      " [5 5 3]\n",
      " [5 6 8]]\n",
      "6\n"
     ]
    }
   ],
   "source": [
    "# Двумерный массив\n",
    "x = np.array([\n",
    "        [1, 2, 3],\n",
    "        [5, 5, 3],\n",
    "        [5, 6, 8]\n",
    "        ])\n",
    "print(x)\n",
    "print(x[2, 1])"
   ]
  },
  {
   "cell_type": "code",
   "execution_count": 86,
   "metadata": {},
   "outputs": [
    {
     "name": "stdout",
     "output_type": "stream",
     "text": [
      "[0 0 0 0 0 0 0]\n",
      "[[1. 1. 1.]\n",
      " [1. 1. 1.]]\n",
      "[[3.14 3.14 3.14 3.14 3.14]\n",
      " [3.14 3.14 3.14 3.14 3.14]\n",
      " [3.14 3.14 3.14 3.14 3.14]]\n",
      "[[1 0 0]\n",
      " [0 1 0]\n",
      " [0 0 1]]\n"
     ]
    }
   ],
   "source": [
    "print( np.zeros((7), dtype=int) ) # Массив из нулей\n",
    "print( np.ones((2, 3), dtype=float) ) # Массив из единиц\n",
    "print( np.full((3, 5), 3.14) ) # Массив, елементы которого принимают желаемое значение\n",
    "print( np.eye(3, dtype=int) ) # Единичная матрица\n"
   ]
  },
  {
   "cell_type": "code",
   "execution_count": 9,
   "metadata": {},
   "outputs": [
    {
     "name": "stdout",
     "output_type": "stream",
     "text": [
      "[10  9  8  7  6  5  4  3  2  1]\n",
      "[ 5  9 13 17 21]\n"
     ]
    }
   ],
   "source": [
    "x = np.arange(10, 0, -1)\n",
    "t = np.linspace(5, 21, 5, dtype=int)\n",
    "print(x)\n",
    "print(t)"
   ]
  },
  {
   "cell_type": "code",
   "execution_count": 87,
   "metadata": {},
   "outputs": [
    {
     "data": {
      "text/plain": [
       "[<matplotlib.lines.Line2D at 0x2dd93e58880>]"
      ]
     },
     "execution_count": 87,
     "metadata": {},
     "output_type": "execute_result"
    },
    {
     "data": {
      "image/png": "[encoded data removed]",
      "text/plain": [
       "<Figure size 432x288 with 1 Axes>"
      ]
     },
     "metadata": {
      "needs_background": "light"
     },
     "output_type": "display_data"
    }
   ],
   "source": [
    "import matplotlib.pyplot as plt\n",
    "t = np.linspace(0, 1, 1000)\n",
    "y = np.sin(2*np.pi*3*t)\n",
    "plt.plot(t, y)"
   ]
  },
  {
   "cell_type": "code",
   "execution_count": 11,
   "metadata": {},
   "outputs": [
    {
     "name": "stdout",
     "output_type": "stream",
     "text": [
      "value: 5.26 10 %\n"
     ]
    }
   ],
   "source": [
    "print('value: %.2f %d %%' % (5.256, 10.7))"
   ]
  },
  {
   "cell_type": "code",
   "execution_count": 12,
   "metadata": {},
   "outputs": [
    {
     "name": "stdout",
     "output_type": "stream",
     "text": [
      "[[0.22376596 0.17946355 0.52276202]\n",
      " [0.63160221 0.44987375 0.36134884]]\n",
      "[[10 16  4]\n",
      " [ 4  6 19]\n",
      " [ 2 15  2]]\n"
     ]
    }
   ],
   "source": [
    "# Массив с равномерно распределенными случайными числами из интервала [0, 1), заданного размера\n",
    "print( np.random.random((2, 3)) )\n",
    "# Случайные целые числа из интервала (здесь [-2, 25]), заданного размера\n",
    "print( np.random.randint(-2, 25, size=(3, 3)))\n"
   ]
  },
  {
   "cell_type": "markdown",
   "metadata": {},
   "source": [
    "| Data type\t    | Description |\n",
    "|---------------|-------------|\n",
    "| ``bool_``     | Boolean (True or False) stored as a byte |\n",
    "| ``int_``      | Default integer type (same as C ``long``; normally either ``int64`` or ``int32``)| \n",
    "| ``intc``      | Identical to C ``int`` (normally ``int32`` or ``int64``)| \n",
    "| ``intp``      | Integer used for indexing (same as C ``ssize_t``; normally either ``int32`` or ``int64``)| \n",
    "| ``int8``      | Byte (-128 to 127)| \n",
    "| ``int16``     | Integer (-32768 to 32767)|\n",
    "| ``int32``     | Integer (-2147483648 to 2147483647)|\n",
    "| ``int64``     | Integer (-9223372036854775808 to 9223372036854775807)| \n",
    "| ``uint8``     | Unsigned integer (0 to 255)| \n",
    "| ``uint16``    | Unsigned integer (0 to 65535)| \n",
    "| ``uint32``    | Unsigned integer (0 to 4294967295)| \n",
    "| ``uint64``    | Unsigned integer (0 to 18446744073709551615)| \n",
    "| ``float_``    | Shorthand for ``float64``.| \n",
    "| ``float16``   | Half precision float: sign bit, 5 bits exponent, 10 bits mantissa| \n",
    "| ``float32``   | Single precision float: sign bit, 8 bits exponent, 23 bits mantissa| \n",
    "| ``float64``   | Double precision float: sign bit, 11 bits exponent, 52 bits mantissa| \n",
    "| ``complex_``  | Shorthand for ``complex128``.| \n",
    "| ``complex64`` | Complex number, represented by two 32-bit floats| \n",
    "| ``complex128``| Complex number, represented by two 64-bit floats| "
   ]
  },
  {
   "cell_type": "code",
   "execution_count": 88,
   "metadata": {},
   "outputs": [
    {
     "name": "stdout",
     "output_type": "stream",
     "text": [
      "x2 ndim:  2\n",
      "x3 shape: (3, 4, 5)\n",
      "x1 size:  6\n",
      "dtype: int32\n"
     ]
    }
   ],
   "source": [
    "# Характеристики массивов\n",
    "x1 = np.random.randint(10, size=6)  # 1D массив\n",
    "x2 = np.random.randint(10, size=(3, 4))  # 2D массив\n",
    "x3 = np.random.randint(10, size=(3, 4, 5))  # 3D массив\n",
    "\n",
    "print(\"x2 ndim: \", x2.ndim)\n",
    "print(\"x3 shape:\", x3.shape)\n",
    "print(\"x1 size: \", x1.size)\n",
    "\n",
    "print(\"dtype:\", x3.dtype)"
   ]
  },
  {
   "cell_type": "code",
   "execution_count": 91,
   "metadata": {},
   "outputs": [
    {
     "name": "stdout",
     "output_type": "stream",
     "text": [
      "5\n",
      "[[[6 7 1 4 3]\n",
      "  [8 3 3 4 6]\n",
      "  [6 7 1 2 5]\n",
      "  [7 2 7 6 7]]\n",
      "\n",
      " [[4 6 8 8 5]\n",
      "  [9 7 0 1 3]\n",
      "  [9 1 9 1 7]\n",
      "  [1 4 0 9 0]]\n",
      "\n",
      " [[0 7 2 3 4]\n",
      "  [6 1 1 7 6]\n",
      "  [7 2 3 3 0]\n",
      "  [1 9 9 3 2]]]\n"
     ]
    }
   ],
   "source": [
    "print(np.size(x3, 2)) # Размер массива вдоль выбранной размерности\n",
    "print(x3)"
   ]
  },
  {
   "cell_type": "code",
   "execution_count": 92,
   "metadata": {},
   "outputs": [
    {
     "name": "stdout",
     "output_type": "stream",
     "text": [
      "[[9 9 2 8]\n",
      " [9 9 0 3]\n",
      " [6 5 1 9]]\n",
      "[2 0 1]\n"
     ]
    }
   ],
   "source": [
    "# Доступ к элементам\n",
    "# x[start:stop:step]\n",
    "print(x2)\n",
    "print( x2[0:3, 2] )"
   ]
  },
  {
   "cell_type": "code",
   "execution_count": 16,
   "metadata": {},
   "outputs": [
    {
     "name": "stdout",
     "output_type": "stream",
     "text": [
      "[4 7 1 9 6 5]\n"
     ]
    },
    {
     "data": {
      "text/plain": [
       "9"
      ]
     },
     "execution_count": 16,
     "metadata": {},
     "output_type": "execute_result"
    }
   ],
   "source": [
    "print(x1)\n",
    "x1[-3]"
   ]
  },
  {
   "cell_type": "code",
   "execution_count": 97,
   "metadata": {},
   "outputs": [
    {
     "name": "stdout",
     "output_type": "stream",
     "text": [
      "Original:\n",
      " [[ 1  2  3]\n",
      " [ 5  6  7]\n",
      " [ 9 -4  7]]\n",
      "Submatrix:\n",
      " [[1 2]\n",
      " [5 6]]\n",
      "Submatrix after change:\n",
      " [[ 1 42]\n",
      " [ 5  6]]\n",
      "Original one:\n",
      " [[ 1 42  3]\n",
      " [ 5  6  7]\n",
      " [ 9 -4  7]]\n"
     ]
    }
   ],
   "source": [
    "# Про изменения в оригинальном массиве и копии (x.copy())\n",
    "x = np.array([[1,2,3], [5,6,7], [9,-4,7]])\n",
    "print('Original:\\n', x)\n",
    "x_sub = x[:2, :2]\n",
    "print('Submatrix:\\n', x_sub)\n",
    "x_sub[0, 1] = 42\n",
    "print('Submatrix after change:\\n', x_sub)\n",
    "print('Original one:\\n', x)\n",
    "\n",
    "x_new = x.copy()"
   ]
  },
  {
   "cell_type": "code",
   "execution_count": 98,
   "metadata": {},
   "outputs": [
    {
     "name": "stdout",
     "output_type": "stream",
     "text": [
      "[1 2 3 4 5 6 7 8]\n",
      "[[1 2 3 4]\n",
      " [5 6 7 8]]\n"
     ]
    }
   ],
   "source": [
    "x = np.arange(1, 9)\n",
    "print(x)\n",
    "grid = x.reshape((2, 4))\n",
    "print(grid)"
   ]
  },
  {
   "cell_type": "code",
   "execution_count": 125,
   "metadata": {},
   "outputs": [
    {
     "name": "stdout",
     "output_type": "stream",
     "text": [
      "Matrix A:\n",
      " [[1 2 3]\n",
      " [4 7 9]\n",
      " [0 1 4]]\n",
      "Matrix B:\n",
      " [[16 28 31]\n",
      " [ 4 17 91]]\n",
      "Matrix C:\n",
      " [[5 3 6 7 8]\n",
      " [4 3 2 1 5]\n",
      " [9 4 6 3 9]]\n",
      "After vstack:\n",
      " [[ 1  2  3]\n",
      " [ 4  7  9]\n",
      " [ 0  1  4]\n",
      " [16 28 31]\n",
      " [ 4 17 91]]\n",
      "After hstack:\n",
      " [[1 2 3 5 3 6 7 8]\n",
      " [4 7 9 4 3 2 1 5]\n",
      " [0 1 4 9 4 6 3 9]]\n"
     ]
    }
   ],
   "source": [
    "# np.vstack,  np.hstack\n",
    "A = np.array([[1, 2, 3], [4, 7, 9], [0, 1, 4]])\n",
    "B = np.array([[16, 28, 31], [4, 17, 91]])\n",
    "C = np.random.randint(10, size=(3, 5))\n",
    "print('Matrix A:\\n', A)\n",
    "print('Matrix B:\\n', B)\n",
    "print('Matrix C:\\n', C)\n",
    "ab_vert = np.vstack([A, B])\n",
    "ac_horiz = np.hstack([A, C])\n",
    "print(f'After vstack:\\n {ab_vert}')\n",
    "print(f'After hstack:\\n {ac_horiz}')"
   ]
  },
  {
   "cell_type": "code",
   "execution_count": 126,
   "metadata": {},
   "outputs": [
    {
     "name": "stdout",
     "output_type": "stream",
     "text": [
      "[1 2 3] [99 99] [3 2 1]\n",
      "[[ 0  1  2  3]\n",
      " [ 4  5  6  7]\n",
      " [ 8  9 10 11]\n",
      " [12 13 14 15]]\n",
      "[[0 1 2 3]\n",
      " [4 5 6 7]]\n",
      "[[ 8  9 10 11]\n",
      " [12 13 14 15]]\n"
     ]
    }
   ],
   "source": [
    "# np.split, np.hsplit, np.vsplit\n",
    "x = [1, 2, 3, 99, 99, 3, 2, 1]\n",
    "x1, x2, x3 = np.split(x, [3, 5])\n",
    "print(x1, x2, x3)\n",
    "\n",
    "grid = np.arange(16).reshape((4, 4))\n",
    "upper, lower = np.vsplit(grid, [2])\n",
    "print(grid)\n",
    "print(upper)\n",
    "print(lower)"
   ]
  },
  {
   "cell_type": "markdown",
   "metadata": {},
   "source": [
    "|Function Name      |   NaN-safe Version  | Description                                   |\n",
    "|-------------------|---------------------|-----------------------------------------------|\n",
    "| ``np.sum``        | ``np.nansum``       | Compute sum of elements                       |\n",
    "| ``np.prod``       | ``np.nanprod``      | Compute product of elements                   |\n",
    "| ``np.mean``       | ``np.nanmean``      | Compute mean of elements                      |\n",
    "| ``np.std``        | ``np.nanstd``       | Compute standard deviation                    |\n",
    "| ``np.var``        | ``np.nanvar``       | Compute variance                              |\n",
    "| ``np.min``        | ``np.nanmin``       | Find minimum value                            |\n",
    "| ``np.max``        | ``np.nanmax``       | Find maximum value                            |\n",
    "| ``np.argmin``     | ``np.nanargmin``    | Find index of minimum value                   |\n",
    "| ``np.argmax``     | ``np.nanargmax``    | Find index of maximum value                   |\n",
    "| ``np.median``     | ``np.nanmedian``    | Compute median of elements                    |\n",
    "| ``np.percentile`` | ``np.nanpercentile``| Compute rank-based statistics of elements     |\n",
    "| ``np.any``        | N/A                 | Evaluate whether any elements are true        |\n",
    "| ``np.all``        | N/A                 | Evaluate whether all elements are true        |\n"
   ]
  },
  {
   "cell_type": "code",
   "execution_count": 127,
   "metadata": {},
   "outputs": [
    {
     "name": "stdout",
     "output_type": "stream",
     "text": [
      "107 ms ± 2.18 ms per loop (mean ± std. dev. of 7 runs, 10 loops each)\n",
      "1.09 ms ± 130 µs per loop (mean ± std. dev. of 7 runs, 1000 loops each)\n"
     ]
    }
   ],
   "source": [
    "arr = np.random.rand(1000000)\n",
    "%timeit sum(arr)\n",
    "%timeit np.sum(arr)"
   ]
  }
 ],
 "metadata": {
  "kernelspec": {
   "display_name": "Python 3.9.9 64-bit",
   "language": "python",
   "name": "python3"
  },
  "language_info": {
   "codemirror_mode": {
    "name": "ipython",
    "version": 3
   },
   "file_extension": ".py",
   "mimetype": "text/x-python",
   "name": "python",
   "nbconvert_exporter": "python",
   "pygments_lexer": "ipython3",
   "version": "3.9.9"
  },
  "vscode": {
   "interpreter": {
    "hash": "31ee9e1dce702a1f091200fb7fc1a39cccbf269992c4f8c0ee1e527f4152dcd5"
   }
  }
 },
 "nbformat": 4,
 "nbformat_minor": 4
}
