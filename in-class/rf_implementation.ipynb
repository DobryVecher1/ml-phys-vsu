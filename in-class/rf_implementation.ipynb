{
 "cells": [
  {
   "cell_type": "markdown",
   "metadata": {},
   "source": [
    "Подготовка данных"
   ]
  },
  {
   "cell_type": "code",
   "execution_count": null,
   "metadata": {},
   "outputs": [],
   "source": [
    "import pandas as pd\n",
    "import numpy as np\n",
    "from sklearn.tree import DecisionTreeClassifier\n",
    "\n",
    "np.random.seed(42)\n",
    "df = pd.read_csv('data\\\\healthcare-dataset-stroke-data.csv', index_col='id')\n",
    "\n",
    "X = df.drop(columns=['stroke'])\n",
    "y = df['stroke'].copy()\n",
    "\n",
    "X['gender'] = X['gender'].map({'Male': 1, 'Female': 0, 'Other': 1})\n",
    "X['Residence_type'] = X['Residence_type'].map({'Urban': 1, 'Rural': 0})\n",
    "X['ever_married'] = X['ever_married'].map({'Yes': 1, 'No': 0})\n",
    "\n",
    "X = pd.get_dummies(X, columns=['work_type', 'smoking_status'], dtype=float)\n",
    "\n",
    "# Train/val split\n",
    "obj_ind = X.index.tolist()\n",
    "np.random.shuffle(obj_ind)\n",
    "num_train = int(0.8*len(obj_ind))\n",
    "\n",
    "X_train, y_train = X.loc[obj_ind[:num_train], :], y[obj_ind[:num_train]]\n",
    "X_val, y_val = X.loc[obj_ind[num_train:], :], y[obj_ind[num_train:]]\n",
    "\n",
    "X_train.head()"
   ]
  },
  {
   "cell_type": "markdown",
   "metadata": {},
   "source": [
    "Реализация случайного леса"
   ]
  },
  {
   "cell_type": "code",
   "execution_count": null,
   "metadata": {},
   "outputs": [],
   "source": [
    "def get_bootstrap_sample(X, y):\n",
    "    obj_ind = X.index.tolist()\n",
    "    obj_ind_bootstrap = np.random.choice(obj_ind, size=len(obj_ind), replace=True)\n",
    "    # oob - out of bag error\n",
    "    obj_ind_oob = np.array(list(set(obj_ind) - set(obj_ind_bootstrap)))\n",
    "\n",
    "    return X.loc[obj_ind_bootstrap, :], y[obj_ind_bootstrap], X.loc[obj_ind_oob, :], y[obj_ind_oob]"
   ]
  },
  {
   "cell_type": "code",
   "execution_count": null,
   "metadata": {},
   "outputs": [],
   "source": [
    "class RandomForest:\n",
    "    def __init__(self, num_trees=100, max_depth=20):\n",
    "        self.num_trees = num_trees\n",
    "        self.max_depth = max_depth\n",
    "        self.random_forest = []\n",
    "\n",
    "    def fit(self, X_train, y_train):\n",
    "        oob_error = []\n",
    "        for ii in range(self.num_trees):\n",
    "            # get bootstrap data\n",
    "            X_bootsrap, y_bootsrap, X_oob, y_oob = get_bootstrap_sample(X_train, y_train)\n",
    "            # train tree\n",
    "            tree = DecisionTreeClassifier(max_depth=self.max_depth, max_features='sqrt', class_weight='balanced')\n",
    "            tree.fit(X_bootsrap, y_bootsrap)\n",
    "            self.random_forest.append(tree)\n",
    "            # oob error\n",
    "            oob_pred = tree.predict(X_oob)\n",
    "            oob_error.append(np.sum(oob_pred != y_oob) / len(y_oob))\n",
    "\n",
    "        print(\"OOB error: \", np.mean(oob_error))\n",
    "\n",
    "    def predict(self, X_test):\n",
    "        preds_cls = []\n",
    "        preds = np.array([tree.predict(X_test) for tree in self.random_forest]).T\n",
    "        for votes in preds:\n",
    "            # votes: [0,1,0,0,0,1,...,0,1]\n",
    "            _, counts = np.unique(votes, return_counts=True)\n",
    "            # counts: [10, 7]\n",
    "            preds_cls.append(np.argmax(counts))\n",
    "\n",
    "        return np.array(preds_cls)\n"
   ]
  },
  {
   "cell_type": "code",
   "execution_count": null,
   "metadata": {},
   "outputs": [],
   "source": [
    "import itertools\n",
    "from sklearn.metrics import roc_auc_score\n",
    "\n",
    "# hyperparameter tuning\n",
    "grid = {\n",
    "    'max_depth': list(range(3, 15, 2)),\n",
    "    'num_trees': list(range(50, 200, 20)),\n",
    "}\n",
    "best_metr = 0.0\n",
    "best_param = None\n",
    "param_comb = list(itertools.product(*grid.values()))\n",
    "\n",
    "for comb in param_comb:\n",
    "    rf_custom = RandomForest(max_depth=comb[0], num_trees=comb[1])\n",
    "    rf_custom.fit(X_train, y_train)\n",
    "    preds = rf_custom.predict(X_val)\n",
    "\n",
    "    metr = roc_auc_score(y_val, preds)\n",
    "\n",
    "    # save best metric and parameters\n",
    "    if metr > best_metr:\n",
    "        best_metr = metr.copy()\n",
    "        best_param = comb\n",
    "\n",
    "    print(metr)\n",
    "\n",
    "print(best_metr, best_param)"
   ]
  },
  {
   "cell_type": "code",
   "execution_count": null,
   "metadata": {},
   "outputs": [],
   "source": [
    "# Train on best params\n",
    "rf_custom = RandomForest(max_depth=best_param[0], num_trees=best_param[1])\n",
    "rf_custom.fit(X_train, y_train)\n",
    "\n",
    "rf_custom.predict(X_val)"
   ]
  },
  {
   "cell_type": "markdown",
   "metadata": {},
   "source": [
    "Scikit Random Forest"
   ]
  },
  {
   "cell_type": "code",
   "execution_count": null,
   "metadata": {},
   "outputs": [],
   "source": [
    "import itertools\n",
    "from sklearn.ensemble import RandomForestClassifier\n",
    "from sklearn.metrics import roc_auc_score\n",
    "\n",
    "best_metr = 0.0\n",
    "best_param = None\n",
    "\n",
    "# hyperparameter tuning\n",
    "grid = {\n",
    "    'max_depth': list(range(1, 15, 2)),\n",
    "    'n_estimators': list(range(10, 200, 20)),\n",
    "}\n",
    "param_comb = list(itertools.product(*grid.values()))\n",
    "\n",
    "for comb in param_comb:\n",
    "    rf_scikit = RandomForestClassifier(max_depth=comb[0], n_estimators=comb[1], class_weight='balanced', max_features='sqrt')\n",
    "    rf_scikit.fit(X_train, y_train)\n",
    "    preds = rf_scikit.predict(X_val)\n",
    "\n",
    "    metr = roc_auc_score(y_val, preds)\n",
    "\n",
    "    if metr > best_metr:\n",
    "        best_metr = metr.copy()\n",
    "        best_param = comb\n",
    "\n",
    "    print(metr)\n",
    "\n",
    "print(best_metr, best_param)"
   ]
  },
  {
   "cell_type": "markdown",
   "metadata": {},
   "source": [
    "Метрики для каждого отдельного дерева из ансамбля"
   ]
  },
  {
   "cell_type": "code",
   "execution_count": null,
   "metadata": {},
   "outputs": [],
   "source": [
    "mean_metr = []\n",
    "for tree in rf_custom.random_forest:\n",
    "    metr = roc_auc_score(y_val, tree.predict(X_val))\n",
    "    print(metr)\n",
    "    mean_metr.append(metr)\n",
    "\n",
    "print(\"Mean metr: \", np.mean(mean_metr))"
   ]
  },
  {
   "cell_type": "code",
   "execution_count": null,
   "metadata": {},
   "outputs": [],
   "source": []
  }
 ],
 "metadata": {
  "kernelspec": {
   "display_name": ".venv",
   "language": "python",
   "name": "python3"
  },
  "language_info": {
   "codemirror_mode": {
    "name": "ipython",
    "version": 3
   },
   "file_extension": ".py",
   "mimetype": "text/x-python",
   "name": "python",
   "nbconvert_exporter": "python",
   "pygments_lexer": "ipython3",
   "version": "3.11.9"
  }
 },
 "nbformat": 4,
 "nbformat_minor": 2
}
