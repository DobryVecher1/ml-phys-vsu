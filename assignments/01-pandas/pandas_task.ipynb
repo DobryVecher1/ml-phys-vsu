{
 "cells": [
  {
   "attachments": {},
   "cell_type": "markdown",
   "metadata": {},
   "source": [
    "# Задание 1. Работа с Pandas, анализ и обработка данных.\n",
    "\n",
    "В этом задании вам предстоит поработать с библиотекой Pandas, предназначенной для удобного анализа и обработки данных.\n",
    "\n",
    "**Датасет**: данные о землетрясениях с 01.01.2001 по 01.01.2023 в разных частях мира. [Ссылка](https://www.kaggle.com/datasets/warcoder/earthquake-dataset) на датасет.\n",
    "\n",
    "**Описание признаков:**\n",
    "- `title`: название землетрясения\n",
    "- `magnitude`: магнитуда\n",
    "- `date_time`: дата и время\n",
    "- `cdi`: максимальная заявленная интенсивность\n",
    "- `mmi`: максимальная предполагаемая интенсивность, зафиксированная приборами\n",
    "- `alert`: уровень опасности/тревоги/оповещения\n",
    "- `tsunami`: \"1\" для землетрясения в океанском регионе и \"0\" в остальных случаях\n",
    "- `sig`: число показывающее, насколько \"значимым\" было землетрясение. Складывается из магнитуды, максимальной интенсивности, ущерба и т.д.\n",
    "- `net`: ID источника информации\n",
    "- `nst`: количество сейсмических станций, которые использовались для определения расположения землетрясения\n",
    "- `dmin`: горизонтальное расстояние от эпицентра до ближайшей станции\n",
    "- `gap`: наибольший азимутальный зазор между соседними по азимуту станциями (подробности см. на странице датасета)\n",
    "- `magType`: метод или алгоритм, используемый для расчета магнитуды\n",
    "- `depth`: глубина\n",
    "- `latitude/longitude`: широта/долгота\n",
    "- `location`: место внутри страны\n",
    "- `continent`: континент\n",
    "- `country`: пострадавшая страна\n",
    "\n",
    "\n",
    "Полезные ресурсы:\n",
    "- [Документация pandas](https://pandas.pydata.org/docs/)\n",
    "- [Шпаргалка по Pandas](https://pandas.pydata.org/Pandas_Cheat_Sheet.pdf)\n",
    "- [Мини-курс](https://www.kaggle.com/learn/pandas) по pandas на Kaggle\n",
    "\n",
    "**Замечание**: старайтесь избегать лишних циклов при работе с данными. Pandas содержит множество функций и методов, с помощью которых можно решить проблему красиво и лаконично."
   ]
  },
  {
   "attachments": {},
   "cell_type": "markdown",
   "metadata": {},
   "source": [
    "- Импортируйте необходимые библиотеки и загрузите данные (файл `AllSatellites.csv`) с помощью pandas. Удостоверьтесь, что тип переменной - `Dataframe`"
   ]
  },
  {
   "cell_type": "code",
   "execution_count": 1,
   "metadata": {},
   "outputs": [],
   "source": [
    "# YOUR CODE HERE"
   ]
  },
  {
   "attachments": {},
   "cell_type": "markdown",
   "metadata": {},
   "source": [
    "- Отобразите первые 5 строк с помощью метода `head`"
   ]
  },
  {
   "cell_type": "code",
   "execution_count": 2,
   "metadata": {},
   "outputs": [],
   "source": [
    "# YOUR CODE HERE"
   ]
  },
  {
   "attachments": {},
   "cell_type": "markdown",
   "metadata": {},
   "source": [
    "- Сколько всего признаков имеется в данных и сколько объектов (землетрясений) в датасете?"
   ]
  },
  {
   "cell_type": "code",
   "execution_count": 3,
   "metadata": {},
   "outputs": [],
   "source": [
    "# YOUR CODE HERE"
   ]
  },
  {
   "attachments": {},
   "cell_type": "markdown",
   "metadata": {},
   "source": [
    "- Попробуйте отобразить информацию о датасете с помощью метода `describe`. Выведите название (`title`) землетрясения, для регистрации которого использовалось максимальное количество сейсмических станций."
   ]
  },
  {
   "cell_type": "code",
   "execution_count": 4,
   "metadata": {},
   "outputs": [],
   "source": [
    "# YOUR CODE HERE"
   ]
  },
  {
   "attachments": {},
   "cell_type": "markdown",
   "metadata": {},
   "source": [
    "- Сколько типов \"уровней опасности\" имеется в датасете?"
   ]
  },
  {
   "cell_type": "code",
   "execution_count": 5,
   "metadata": {},
   "outputs": [],
   "source": [
    "# YOUR CODE HERE"
   ]
  },
  {
   "attachments": {},
   "cell_type": "markdown",
   "metadata": {},
   "source": [
    "- Найдите, сколько землетрясений было в океанских регионах и сколько на суше."
   ]
  },
  {
   "cell_type": "code",
   "execution_count": 6,
   "metadata": {},
   "outputs": [],
   "source": [
    "# YOUR CODE HERE"
   ]
  },
  {
   "attachments": {},
   "cell_type": "markdown",
   "metadata": {},
   "source": [
    "- Информация о скольких странах присутствует в наборе данных? Выведите список стран, для которых есть хотя бы один объект с признаком `tsunami == 1` и найдите их количество."
   ]
  },
  {
   "cell_type": "code",
   "execution_count": 7,
   "metadata": {},
   "outputs": [],
   "source": [
    "# YOUR CODE HERE"
   ]
  },
  {
   "attachments": {},
   "cell_type": "markdown",
   "metadata": {},
   "source": [
    "- Проверьте, есть ли землетрясения с параметром `tsunami == 1` в России? Если есть, выведите название (`title`) любого из них"
   ]
  },
  {
   "cell_type": "code",
   "execution_count": 8,
   "metadata": {},
   "outputs": [],
   "source": [
    "# YOUR CODE HERE"
   ]
  },
  {
   "attachments": {},
   "cell_type": "markdown",
   "metadata": {},
   "source": [
    "- Найдите количество пропусков в данных (для каждого признака)"
   ]
  },
  {
   "cell_type": "code",
   "execution_count": 9,
   "metadata": {},
   "outputs": [],
   "source": [
    "# YOUR CODE HERE"
   ]
  },
  {
   "attachments": {},
   "cell_type": "markdown",
   "metadata": {},
   "source": [
    "- Колонка `gap` содержит значение азимутального угла в градусах. Переведите эти значения в радианы, используя  `apply` или `map`. Проверьте, что значения в соответствующей колонке действительно изменились."
   ]
  },
  {
   "cell_type": "code",
   "execution_count": 10,
   "metadata": {},
   "outputs": [],
   "source": [
    "# YOUR CODE HERE"
   ]
  },
  {
   "attachments": {},
   "cell_type": "markdown",
   "metadata": {},
   "source": [
    "- Найдите самую северную и самую южную точки, в которых было зафиксировано землетрясение"
   ]
  },
  {
   "cell_type": "code",
   "execution_count": 11,
   "metadata": {},
   "outputs": [],
   "source": [
    "# YOUR CODE HERE"
   ]
  },
  {
   "attachments": {},
   "cell_type": "markdown",
   "metadata": {},
   "source": [
    "- В какой стране наблюдалось больше всего землетрясений?"
   ]
  },
  {
   "cell_type": "code",
   "execution_count": 12,
   "metadata": {},
   "outputs": [],
   "source": [
    "# YOUR CODE HERE"
   ]
  },
  {
   "attachments": {},
   "cell_type": "markdown",
   "metadata": {},
   "source": [
    "- В исходном датасете есть колонка `date_time`, в которой записаны дата и время события. Создайте две новые колонки `date` и `time`, в которых отдельно будет содержаться информация о дате и времени землетрясения. После этого удалите исходную колонку `date_time` из датафрейма."
   ]
  },
  {
   "cell_type": "code",
   "execution_count": 13,
   "metadata": {},
   "outputs": [],
   "source": [
    "# YOUR CODE HERE"
   ]
  },
  {
   "attachments": {},
   "cell_type": "markdown",
   "metadata": {},
   "source": [
    "### Перед отправкой сохраните ноутбук с именем в следующем формате: **01_Фамилия.ipynb**"
   ]
  },
  {
   "cell_type": "markdown",
   "metadata": {},
   "source": []
  }
 ],
 "metadata": {
  "kernelspec": {
   "display_name": "Python 3",
   "language": "python",
   "name": "python3"
  },
  "language_info": {
   "codemirror_mode": {
    "name": "ipython",
    "version": 3
   },
   "file_extension": ".py",
   "mimetype": "text/x-python",
   "name": "python",
   "nbconvert_exporter": "python",
   "pygments_lexer": "ipython3",
   "version": "3.9.9"
  },
  "orig_nbformat": 4
 },
 "nbformat": 4,
 "nbformat_minor": 2
}
